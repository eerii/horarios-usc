{
 "cells": [
  {
   "cell_type": "code",
   "execution_count": 10,
   "metadata": {},
   "outputs": [],
   "source": [
    "import api"
   ]
  },
  {
   "cell_type": "code",
   "execution_count": 11,
   "metadata": {},
   "outputs": [],
   "source": [
    "def materia(nombre: str):\n",
    "    l = api.lista_materias('materias.json') # datos precargados\n",
    "    m = api.encontrar_materia(l, nombre)[0][0]\n",
    "    # return api.datos_materia(m)\n",
    "    return m"
   ]
  },
  {
   "cell_type": "code",
   "execution_count": 36,
   "metadata": {},
   "outputs": [
    {
     "name": "stdout",
     "output_type": "stream",
     "text": [
      "[Conflicto] POO E1 / IA I3 - Martes 15:30\n",
      "         Lunes          Martes Miércoles   Jueves Viernes\n",
      "09:00    IA E1           IS E1     IA E1   ASR E1  ASR I3\n",
      "09:30    IA E1           IS E1     IA E1   ASR E1  ASR I3\n",
      "10:00    CD E1         TALF E1     IA E1  TALF E1  ASR I3\n",
      "10:30    CD E1         TALF E1     IA E1  TALF E1  ASR I3\n",
      "11:00    IS E1                     CD E1  TALF E1        \n",
      "11:30    IS E1                     CD E1  TALF E1   IS I3\n",
      "12:00  TALF I3          ASR I3    POO I2            IS I3\n",
      "12:30  TALF I3          ASR I3    POO I2            IS I3\n",
      "13:00  TALF I3          ASR I3    POO I2            IS I3\n",
      "13:30  TALF I3          ASR I3    POO I2            IS I3\n",
      "14:00                             POO I2                 \n",
      "14:30                                                    \n",
      "15:00                   POO E1                           \n",
      "15:30           IA I3 / POO E1                      CD I3\n",
      "16:00           IA I3 / POO E1                      CD I3\n",
      "16:30           IA I3 / POO E1                      CD I3\n",
      "17:00                    IA I3                      CD I3\n",
      "17:30                    IA I3                      CD I3\n",
      "18:00                    IA I3                      CD I3\n",
      "18:30                                                    \n",
      "19:00                                                    \n",
      "19:30                                                    \n",
      "20:00                                                    \n"
     ]
    }
   ],
   "source": [
    "from api import *\n",
    "\n",
    "horario = api.horario_curso(3, 1, 3, 'materias.json')\n",
    "horario = api.horario_materia(horario, materia(\"Objetos\"), 2)\n",
    "print(horario.fillna(''))"
   ]
  }
 ],
 "metadata": {
  "kernelspec": {
   "display_name": "Python 3",
   "language": "python",
   "name": "python3"
  },
  "language_info": {
   "codemirror_mode": {
    "name": "ipython",
    "version": 3
   },
   "file_extension": ".py",
   "mimetype": "text/x-python",
   "name": "python",
   "nbconvert_exporter": "python",
   "pygments_lexer": "ipython3",
   "version": "3.11.4"
  },
  "orig_nbformat": 4
 },
 "nbformat": 4,
 "nbformat_minor": 2
}
