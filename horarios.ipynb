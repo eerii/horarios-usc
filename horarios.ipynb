{
 "cells": [
  {
   "cell_type": "code",
   "execution_count": 1,
   "metadata": {
    "tags": []
   },
   "outputs": [],
   "source": [
    "import api\n",
    "import ipywidgets as w\n",
    "from IPython.display import display, clear_output"
   ]
  },
  {
   "cell_type": "code",
   "execution_count": 3,
   "metadata": {
    "tags": []
   },
   "outputs": [
    {
     "data": {
      "application/vnd.jupyter.widget-view+json": {
       "model_id": "f6e7652125464aeaa34ab19b69aada2c",
       "version_major": 2,
       "version_minor": 0
      },
      "text/plain": [
       "Box(children=(Dropdown(description='Curso:', options=(('-', 0), ('Primero', 1), ('Segundo', 2), ('Tercero', 3)…"
      ]
     },
     "metadata": {},
     "output_type": "display_data"
    },
    {
     "data": {
      "application/vnd.jupyter.widget-view+json": {
       "model_id": "cf65ffcda74d409b9f36683d89c259e5",
       "version_major": 2,
       "version_minor": 0
      },
      "text/plain": [
       "Box(children=(Output(),))"
      ]
     },
     "metadata": {},
     "output_type": "display_data"
    }
   ],
   "source": [
    "# Widgets\n",
    "# ---\n",
    "\n",
    "# Elección de curso completo (borra el horario anterior)\n",
    "wcurso = w.Dropdown(\n",
    "    options = [('-', 0), ('Primero', 1), ('Segundo', 2), ('Tercero', 3), ('Cuarto', 4)],\n",
    "    value = 0,\n",
    "    description = 'Curso:',\n",
    ")\n",
    "def wcurso_callback(e):\n",
    "    global horario\n",
    "    horario = api.horario_curso(e['new'], wcuatri.value, wgrupo.value, 'materias.json')\n",
    "    update()\n",
    "wcurso.observe(wcurso_callback, names='value')\n",
    "\n",
    "# Elección de cuatrimestre (borra el horario anterior)\n",
    "wcuatri = w.Dropdown(\n",
    "    options = [('Primero', 1), ('Segundo', 2)],\n",
    "    value = 1,\n",
    "    description = 'Cuatri:',\n",
    ")\n",
    "def wcuatri_callback(e):\n",
    "    global horario\n",
    "    horario = api.horario_curso(wcurso.value, e['new'], wgrupo.value, 'materias.json')\n",
    "    update()\n",
    "wcuatri.observe(wcuatri_callback, names='value')\n",
    "\n",
    "# Elección de grupo\n",
    "wgrupo = w.BoundedIntText(\n",
    "    value = 1,\n",
    "    min = 1,\n",
    "    max = 5,\n",
    "    step = 1,\n",
    "    description = 'Grupo:',\n",
    "    disabled = False\n",
    ")\n",
    "def wgrupo_callback(e):\n",
    "    global horario\n",
    "    update()\n",
    "wgrupo.observe(wgrupo_callback, names='value')\n",
    "\n",
    "# Mostrar en pantalla\n",
    "# ---\n",
    "\n",
    "def to_widget(x):\n",
    "    out = w.Output()\n",
    "    with out:\n",
    "        display(x)\n",
    "    return out\n",
    "\n",
    "def update():\n",
    "    global horario\n",
    "    clear_output(wait=True)\n",
    "    display(w.Box([wcurso, wcuatri, wgrupo]))\n",
    "    display(w.Box([to_widget(api.formato_horario(horario))]))\n",
    "    \n",
    "horario = api.horario_curso(1, 1, 1, 'materias.json')\n",
    "update()"
   ]
  },
  {
   "cell_type": "code",
   "execution_count": 4,
   "metadata": {},
   "outputs": [],
   "source": [
    "f = open('horario.html','w')\n",
    "f.write(horario.to_html())\n",
    "f.close()"
   ]
  }
 ],
 "metadata": {
  "kernelspec": {
   "display_name": "Python 3 (ipykernel)",
   "language": "python",
   "name": "python3"
  },
  "language_info": {
   "codemirror_mode": {
    "name": "ipython",
    "version": 3
   },
   "file_extension": ".py",
   "mimetype": "text/x-python",
   "name": "python",
   "nbconvert_exporter": "python",
   "pygments_lexer": "ipython3",
   "version": "3.11.4"
  }
 },
 "nbformat": 4,
 "nbformat_minor": 4
}
